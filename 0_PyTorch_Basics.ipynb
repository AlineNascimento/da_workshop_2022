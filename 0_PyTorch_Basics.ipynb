{
 "cells": [
  {
   "cell_type": "markdown",
   "id": "8e4fad46-8f1e-43c6-942a-f3d6070a5874",
   "metadata": {},
   "source": [
    "# Hello PyTorch\n",
    "\n",
    "This notebook shows some basics examples on how to use tensors on PyTorch"
   ]
  },
  {
   "cell_type": "code",
   "execution_count": null,
   "id": "dc3d10ee-2dac-4c11-b117-2661b85e4c39",
   "metadata": {},
   "outputs": [],
   "source": [
    "import torch\n",
    "\n",
    "## Simple tensor\n",
    "example_tensor = torch.Tensor(\n",
    "    [\n",
    "     [[1, 2], [3, 4]], \n",
    "     [[5, 6], [7, 8]], \n",
    "     [[9, 0], [1, 2]]\n",
    "    ]\n",
    ")"
   ]
  },
  {
   "cell_type": "code",
   "execution_count": null,
   "id": "b3d5c778-1ea9-4bf6-ae65-e87b1c66c7fa",
   "metadata": {},
   "outputs": [],
   "source": [
    "## Properties\n",
    "print(F\"Shape: {example_tensor.shape}\")\n",
    "print(F\"Size = {example_tensor.size()}\")\n",
    "print(F\"Sum of tensor: {example_tensor.sum()}\")\n",
    "print(F\"Flatten of tensor: {example_tensor.flatten()}\")\n",
    "print(F\"Tensor Tranpose: {example_tensor.t}\")\n",
    "print(F\"Device: {example_tensor.device}\")\n",
    "print(F\"Rank = {len(example_tensor.shape)}\")\n",
    "print(F\"Number of elements = {example_tensor.numel()}\")"
   ]
  },
  {
   "cell_type": "code",
   "execution_count": null,
   "id": "74b0d36c-f0db-4a6f-9aea-00e5d442843f",
   "metadata": {},
   "outputs": [],
   "source": [
    "## Indexing\n",
    "print(example_tensor)\n",
    "print(F\"example_tensor[1]: {example_tensor[1]}\")\n",
    "print(F\"example_tensor[1, 1, 0]: {example_tensor[1, 1, 0]}\")\n",
    "print(F\"example_tensor[1, 1, 0].item(): {example_tensor[1, 1, 0].item()}\")  # Scalar value\n",
    "print(F\"example_tensor[:, 0, 0]: {example_tensor[:, 0, 0]}\")"
   ]
  },
  {
   "cell_type": "code",
   "execution_count": null,
   "id": "0263214b-9e41-4098-82ed-c232ececd255",
   "metadata": {},
   "outputs": [],
   "source": [
    "## Initialization\n",
    "print(F\"Init ones: {torch.ones_like(example_tensor)}\")\n",
    "print(F\"Init zeros: {torch.zeros_like(example_tensor)}\")\n",
    "print(F\"Init random: {torch.randn_like(example_tensor)}\")\n",
    "print(F\"Init random gpu: {torch.randn(2, 2, device='cuda')}\")  # Alternatively 'cuda' or 'cpu'\n",
    "print(F\"Init linspace: \", torch.linspace(0,10,100))"
   ]
  },
  {
   "cell_type": "code",
   "execution_count": null,
   "id": "a22b7883-7e81-44fa-9bfd-7c0c11da4c73",
   "metadata": {},
   "outputs": [],
   "source": [
    "## Basic Functions\n",
    "print(example_tensor)\n",
    "print(\"Mean:\", example_tensor.mean())\n",
    "print(\"Stdev:\", example_tensor.std())\n",
    "\n",
    "new_tensor = (example_tensor - 5) * 2\n",
    "print(\"New tensor (t-5)*2:\", new_tensor)\n",
    "\n",
    "print(\"Mean at index 0:\", example_tensor.mean(0))\n",
    "# Equivalently, you could also write:\n",
    "# example_tensor.mean(dim=0)\n",
    "# example_tensor.mean(axis=0)\n",
    "# torch.mean(example_tensor, 0)\n",
    "# torch.mean(example_tensor, dim=0)\n",
    "# torch.mean(example_tensor, axis=0)"
   ]
  }
 ],
 "metadata": {
  "kernelspec": {
   "display_name": "Python 3 (ipykernel)",
   "language": "python",
   "name": "python3"
  },
  "language_info": {
   "codemirror_mode": {
    "name": "ipython",
    "version": 3
   },
   "file_extension": ".py",
   "mimetype": "text/x-python",
   "name": "python",
   "nbconvert_exporter": "python",
   "pygments_lexer": "ipython3",
   "version": "3.10.5"
  }
 },
 "nbformat": 4,
 "nbformat_minor": 5
}

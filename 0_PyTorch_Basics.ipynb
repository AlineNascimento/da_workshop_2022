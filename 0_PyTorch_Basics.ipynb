{
 "cells": [
  {
   "cell_type": "markdown",
   "id": "8e4fad46-8f1e-43c6-942a-f3d6070a5874",
   "metadata": {},
   "source": [
    "# Hello PyTorch\n",
    "\n",
    "This notebook shows just some of the basics on how to use tensors on PyTorch"
   ]
  },
  {
   "cell_type": "code",
   "execution_count": 2,
   "id": "dc3d10ee-2dac-4c11-b117-2661b85e4c39",
   "metadata": {},
   "outputs": [],
   "source": [
    "import torch\n",
    "\n",
    "## Simple tensor\n",
    "example_tensor = torch.Tensor(\n",
    "    [\n",
    "     [[1, 2], [3, 4]], \n",
    "     [[5, 6], [7, 8]], \n",
    "     [[9, 0], [1, 2]]\n",
    "    ]\n",
    ")"
   ]
  },
  {
   "cell_type": "code",
   "execution_count": 11,
   "id": "b3d5c778-1ea9-4bf6-ae65-e87b1c66c7fa",
   "metadata": {},
   "outputs": [
    {
     "name": "stdout",
     "output_type": "stream",
     "text": [
      "Shape: torch.Size([3, 2, 2])\n",
      "Size = torch.Size([3, 2, 2])\n",
      "Sum of tensor: 48.0\n",
      "Flatten of tensor: tensor([1., 2., 3., 4., 5., 6., 7., 8., 9., 0., 1., 2.])\n",
      "Tensor Tranpose: <built-in method t of Tensor object at 0x7f3b25517380>\n",
      "Device: cpu\n",
      "Rank = 3\n",
      "Number of elements = 12\n"
     ]
    }
   ],
   "source": [
    "## Properties\n",
    "print(F\"Shape: {example_tensor.shape}\")\n",
    "print(F\"Size = {example_tensor.size()}\")\n",
    "print(F\"Sum of tensor: {example_tensor.sum()}\")\n",
    "print(F\"Flatten of tensor: {example_tensor.flatten()}\")\n",
    "print(F\"Tensor Tranpose: {example_tensor.t}\")\n",
    "print(F\"Device: {example_tensor.device}\")\n",
    "print(F\"Rank = {len(example_tensor.shape)}\")\n",
    "print(F\"Number of elements = {example_tensor.numel()}\")"
   ]
  },
  {
   "cell_type": "code",
   "execution_count": 12,
   "id": "74b0d36c-f0db-4a6f-9aea-00e5d442843f",
   "metadata": {},
   "outputs": [
    {
     "name": "stdout",
     "output_type": "stream",
     "text": [
      "tensor([[[1., 2.],\n",
      "         [3., 4.]],\n",
      "\n",
      "        [[5., 6.],\n",
      "         [7., 8.]],\n",
      "\n",
      "        [[9., 0.],\n",
      "         [1., 2.]]])\n",
      "example_tensor[1]: tensor([[5., 6.],\n",
      "        [7., 8.]])\n",
      "example_tensor[1, 1, 0]: 7.0\n",
      "example_tensor[1, 1, 0].item(): 7.0\n",
      "example_tensor[:, 0, 0]: tensor([1., 5., 9.])\n"
     ]
    }
   ],
   "source": [
    "## Indexing\n",
    "print(example_tensor)\n",
    "print(F\"example_tensor[1]: {example_tensor[1]}\")\n",
    "print(F\"example_tensor[1, 1, 0]: {example_tensor[1, 1, 0]}\")\n",
    "print(F\"example_tensor[1, 1, 0].item(): {example_tensor[1, 1, 0].item()}\")  # Scalar value\n",
    "print(F\"example_tensor[:, 0, 0]: {example_tensor[:, 0, 0]}\")"
   ]
  },
  {
   "cell_type": "code",
   "execution_count": 21,
   "id": "0263214b-9e41-4098-82ed-c232ececd255",
   "metadata": {},
   "outputs": [
    {
     "name": "stdout",
     "output_type": "stream",
     "text": [
      "Init ones: tensor([[[1., 1.],\n",
      "         [1., 1.]],\n",
      "\n",
      "        [[1., 1.],\n",
      "         [1., 1.]],\n",
      "\n",
      "        [[1., 1.],\n",
      "         [1., 1.]]])\n",
      "Init zeros: tensor([[[0., 0.],\n",
      "         [0., 0.]],\n",
      "\n",
      "        [[0., 0.],\n",
      "         [0., 0.]],\n",
      "\n",
      "        [[0., 0.],\n",
      "         [0., 0.]]])\n",
      "Init random: tensor([[[-0.4492, -0.5913],\n",
      "         [-1.0963, -0.3434]],\n",
      "\n",
      "        [[-1.9849,  0.6118],\n",
      "         [-0.4742,  0.3093]],\n",
      "\n",
      "        [[-0.2783,  1.1060],\n",
      "         [-0.5969,  0.2894]]])\n",
      "Init random gpu: tensor([[ 0.0771,  0.9866],\n",
      "        [ 0.2657, -1.2621]], device='cuda:0')\n",
      "Init linspace:  tensor([ 0.0000,  0.1010,  0.2020,  0.3030,  0.4040,  0.5051,  0.6061,  0.7071,\n",
      "         0.8081,  0.9091,  1.0101,  1.1111,  1.2121,  1.3131,  1.4141,  1.5152,\n",
      "         1.6162,  1.7172,  1.8182,  1.9192,  2.0202,  2.1212,  2.2222,  2.3232,\n",
      "         2.4242,  2.5253,  2.6263,  2.7273,  2.8283,  2.9293,  3.0303,  3.1313,\n",
      "         3.2323,  3.3333,  3.4343,  3.5354,  3.6364,  3.7374,  3.8384,  3.9394,\n",
      "         4.0404,  4.1414,  4.2424,  4.3434,  4.4444,  4.5455,  4.6465,  4.7475,\n",
      "         4.8485,  4.9495,  5.0505,  5.1515,  5.2525,  5.3535,  5.4545,  5.5556,\n",
      "         5.6566,  5.7576,  5.8586,  5.9596,  6.0606,  6.1616,  6.2626,  6.3636,\n",
      "         6.4646,  6.5657,  6.6667,  6.7677,  6.8687,  6.9697,  7.0707,  7.1717,\n",
      "         7.2727,  7.3737,  7.4747,  7.5758,  7.6768,  7.7778,  7.8788,  7.9798,\n",
      "         8.0808,  8.1818,  8.2828,  8.3838,  8.4848,  8.5859,  8.6869,  8.7879,\n",
      "         8.8889,  8.9899,  9.0909,  9.1919,  9.2929,  9.3939,  9.4949,  9.5960,\n",
      "         9.6970,  9.7980,  9.8990, 10.0000])\n"
     ]
    }
   ],
   "source": [
    "## Initialization\n",
    "print(F\"Init ones: {torch.ones_like(example_tensor)}\")\n",
    "print(F\"Init zeros: {torch.zeros_like(example_tensor)}\")\n",
    "print(F\"Init random: {torch.randn_like(example_tensor)}\")\n",
    "print(F\"Init random gpu: {torch.randn(2, 2, device='cuda')}\")  # Alternatively 'cuda' or 'cpu'\n",
    "print(F\"Init linspace: \", torch.linspace(0,10,100))"
   ]
  },
  {
   "cell_type": "code",
   "execution_count": 17,
   "id": "a22b7883-7e81-44fa-9bfd-7c0c11da4c73",
   "metadata": {},
   "outputs": [
    {
     "name": "stdout",
     "output_type": "stream",
     "text": [
      "tensor([[[1., 2.],\n",
      "         [3., 4.]],\n",
      "\n",
      "        [[5., 6.],\n",
      "         [7., 8.]],\n",
      "\n",
      "        [[9., 0.],\n",
      "         [1., 2.]]])\n",
      "Mean: tensor(4.)\n",
      "Stdev: tensor(2.9848)\n",
      "New tensor (t-5)*2: tensor([[[ -8.,  -6.],\n",
      "         [ -4.,  -2.]],\n",
      "\n",
      "        [[  0.,   2.],\n",
      "         [  4.,   6.]],\n",
      "\n",
      "        [[  8., -10.],\n",
      "         [ -8.,  -6.]]])\n",
      "Mean at index 0: tensor([[5.0000, 2.6667],\n",
      "        [3.6667, 4.6667]])\n"
     ]
    }
   ],
   "source": [
    "## Basic Functions\n",
    "print(example_tensor)\n",
    "print(\"Mean:\", example_tensor.mean())\n",
    "print(\"Stdev:\", example_tensor.std())\n",
    "\n",
    "new_tensor = (example_tensor - 5) * 2\n",
    "print(\"New tensor (t-5)*2:\", new_tensor)\n",
    "\n",
    "print(\"Mean at index 0:\", example_tensor.mean(0))\n",
    "# Equivalently, you could also write:\n",
    "# example_tensor.mean(dim=0)\n",
    "# example_tensor.mean(axis=0)\n",
    "# torch.mean(example_tensor, 0)\n",
    "# torch.mean(example_tensor, dim=0)\n",
    "# torch.mean(example_tensor, axis=0)"
   ]
  }
 ],
 "metadata": {
  "kernelspec": {
   "display_name": "Python 3 (ipykernel)",
   "language": "python",
   "name": "python3"
  },
  "language_info": {
   "codemirror_mode": {
    "name": "ipython",
    "version": 3
   },
   "file_extension": ".py",
   "mimetype": "text/x-python",
   "name": "python",
   "nbconvert_exporter": "python",
   "pygments_lexer": "ipython3",
   "version": "3.10.5"
  }
 },
 "nbformat": 4,
 "nbformat_minor": 5
}

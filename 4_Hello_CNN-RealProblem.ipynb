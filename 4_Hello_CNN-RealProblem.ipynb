{
 "cells": [
  {
   "cell_type": "markdown",
   "id": "994c0655-fc35-4a38-a564-e6fe6b7c9015",
   "metadata": {},
   "source": [
    "# Hello PyTorch Convolutional Neural Networks\n",
    "\n",
    "This notebook provides a real use case of CNNs for solving the oceanograhpy problem of automatic detection of the Loop Current in the Gulf of Mexico\n",
    "\n"
   ]
  },
  {
   "cell_type": "code",
   "execution_count": null,
   "id": "594ceef5-2c28-4a20-bc93-a1efd1e8f53f",
   "metadata": {},
   "outputs": [],
   "source": [
    "%matplotlib inline\n",
    "import torch\n",
    "import torch.nn as nn\n",
    "import torch.optim as optim\n",
    "import torchvision\n",
    "import numpy as np\n",
    "import matplotlib.pyplot as plt\n",
    "from IPython import display\n",
    "import time as t\n",
    "import cv2\n",
    "import xarray as xr\n",
    "from torch.nn.functional import relu\n",
    "\n",
    "device = \"cuda\" if torch.cuda.is_available() else \"cpu\""
   ]
  },
  {
   "cell_type": "markdown",
   "id": "5b904c96-a9e9-4af3-bb90-ae3151740201",
   "metadata": {},
   "source": [
    "## Read data"
   ]
  },
  {
   "cell_type": "code",
   "execution_count": null,
   "id": "8dc3919c-6f46-40ce-8b45-714360b58e52",
   "metadata": {},
   "outputs": [],
   "source": [
    "# Read example\n",
    "x = np.load('./data/aviso/1993-1995.npy')\n",
    "y = np.load('./data/aviso/1993-1995-mask.npy')"
   ]
  },
  {
   "cell_type": "code",
   "execution_count": null,
   "id": "3580a535-9e69-4beb-ac71-f1ad2b579c74",
   "metadata": {},
   "outputs": [],
   "source": [
    "num_examples = 1000\n",
    "x = x[:num_examples,:,:]\n",
    "y = y[:num_examples,:,:]\n",
    "tot_ex = x.shape[0]"
   ]
  },
  {
   "cell_type": "code",
   "execution_count": null,
   "id": "c2c07d79-e194-44c2-b88c-4056182d2832",
   "metadata": {},
   "outputs": [],
   "source": [
    "# Plot\n",
    "fig, axs = plt.subplots(1,2, figsize=(14,7))\n",
    "print(x.shape)\n",
    "\n",
    "for i in range(10):\n",
    "    i = np.random.randint(0,tot_ex,1)[0]\n",
    "    axs[0].cla()\n",
    "    axs[1].cla()\n",
    "    display.clear_output(wait =True)\n",
    "    axs[0].imshow(x[i,:,:])\n",
    "    axs[0].set_title(\"SSH\")\n",
    "    axs[1].imshow(y[i,:,:])\n",
    "    axs[1].set_title(\"LC\")\n",
    "    plt.draw()\n",
    "    t.sleep(0.2)\n",
    "    display.display(plt.gcf())\n",
    "display.clear_output(wait =True)"
   ]
  },
  {
   "cell_type": "markdown",
   "id": "336bb9ad-f0fe-4bfe-bd4e-b852ba111bee",
   "metadata": {},
   "source": [
    "1. Generate some synthetic data"
   ]
  },
  {
   "cell_type": "code",
   "execution_count": null,
   "id": "4d5ef9f0-4d9c-485a-9885-decdef97294d",
   "metadata": {},
   "outputs": [],
   "source": [
    "# Models are created by classes that inherit from Module\n",
    "class SingleCNNModel(nn.Module):\n",
    "    # On the init function we define our model\n",
    "    def __init__(self):\n",
    "        super().__init__() # Constructor of parent class\n",
    "        self.conv1 =  nn.Conv2d(1, 1, 3, padding=\"same\", padding_mode='reflect')\n",
    "        self.relu = nn.ReLU()\n",
    "    \n",
    "    # On the forward function we indicate how to make one 'pass' of the model\n",
    "    def forward(self, x):\n",
    "        l1 = self.conv1(x)\n",
    "        return l1\n",
    "    \n",
    "class MultipleLayersCNNModel(nn.Module):\n",
    "    # On the init function we define our model\n",
    "    def __init__(self):\n",
    "        super().__init__() # Constructor of parent class\n",
    "        self.n_cnn_layers = 4\n",
    "        self.hidden_filters = 32\n",
    "        self.convin =  nn.Conv2d(1, self.hidden_filters, 3, padding=\"same\", padding_mode='reflect') \n",
    "        self.convlayers=  nn.ModuleList([nn.Conv2d(self.hidden_filters, self.hidden_filters, 3, padding=\"same\", padding_mode='reflect') for x in range(self.n_cnn_layers)])\n",
    "        self.bn = nn.ModuleList([nn.BatchNorm2d(self.hidden_filters) for x in range(self.n_cnn_layers+1)])\n",
    "        self.relu = nn.ReLU()\n",
    "        self.convout =  nn.Conv2d(self.hidden_filters, 1, 1)\n",
    "        self.sig = nn.Sigmoid()\n",
    "    \n",
    "    # On the forward function we indicate how to make one 'pass' of the model\n",
    "    def forward(self, x):\n",
    "        l1 = nn.functional.relu(self.convin(x))\n",
    "        for i in range(self.n_cnn_layers):\n",
    "            l1 = self.bn[i](nn.functional.relu(self.convlayers[i](l1)))  # With batch normalization\n",
    "        lout = self.sig(self.convout(l1))\n",
    "        return lout\n",
    "    \n",
    "# ex_model = SingleCNNModel().to(device)\n",
    "ex_model = MultipleLayersCNNModel().to(device)\n",
    "# print(list(ex_model.named_parameters()))\n",
    "print(\"Total number of parameters: \", sum(p.numel() for p in ex_model.parameters() if p.requires_grad))\n",
    "\n",
    "np.nan_to_num(x,0)\n",
    "np.nan_to_num(y,0)\n",
    "x = x/np.max(x)\n",
    "# Reshape to the proper input of the network\n",
    "X_torch = torch.reshape(torch.tensor(x.copy()), (x.shape[0], 1, x.shape[1], x.shape[2])).to(device, dtype=torch.float)\n",
    "Y_torch = torch.reshape(torch.tensor(y.copy()), (y.shape[0], 1, y.shape[1], y.shape[2])).to(device, dtype=torch.float)\n",
    "print(\"Original shape\", x.shape)\n",
    "print(\"Input shape\", X_torch.shape)\n",
    "\n",
    "model_y = ex_model(X_torch).cpu().detach().numpy()\n",
    "#-------------- Just for plotting --------------\n",
    "fig, ax = plt.subplots(1,3, figsize=(15,5))\n",
    "def plotCurrentModel(x, y, model, ax):\n",
    "    # Torch receives inputs with shape [Examples, input_size]\n",
    "    ax[0].imshow(x)\n",
    "    ax[0].set_title('Input')\n",
    "    ax[1].imshow(y)\n",
    "    ax[1].set_title('LC')\n",
    "    im = ax[2].imshow(model)\n",
    "    ax[2].set_title('Model output')\n",
    "    \n",
    "ex = 0\n",
    "plotCurrentModel(x[ex,:,:], y[ex,:,:], model_y[ex,0,:,:], ax)"
   ]
  },
  {
   "cell_type": "markdown",
   "id": "4624d7b2-a8f6-4a37-9b41-076f59e6c493",
   "metadata": {},
   "source": [
    "3.Optimize the parameters of the model using backpropagation "
   ]
  },
  {
   "cell_type": "code",
   "execution_count": null,
   "id": "21490976-abc3-42e9-a478-b77a67d30fe3",
   "metadata": {},
   "outputs": [],
   "source": [
    "loss_mse = nn.MSELoss() # Define loss function\n",
    "# optimizer = torch.optim.SGD(ex_model.parameters(), lr=5e-3) # Define optimization algorithm\n",
    "optimizer = torch.optim.Adam(ex_model.parameters(), lr=5e-3) # Define optimization algorithm"
   ]
  },
  {
   "cell_type": "code",
   "execution_count": null,
   "id": "503af9fd-f072-4401-bc65-5fc461369e69",
   "metadata": {},
   "outputs": [],
   "source": [
    "# Optimize the parameters several times\n",
    "fig, ax = plt.subplots(1,3, figsize=(15,5))\n",
    "ex_model.train()\n",
    "for i in range(81):\n",
    "    pred = ex_model(X_torch)\n",
    "    loss = loss_mse(pred, Y_torch)\n",
    "    # Backpropagation\n",
    "    optimizer.zero_grad()\n",
    "    loss.backward()\n",
    "    optimizer.step()\n",
    "    \n",
    "    # ---------- Just for plotting ---------\n",
    "    if i % 20 == 0: \n",
    "        title = f\"Iteration number {i} loss: {loss:0.3f}\"\n",
    "        print(title)\n",
    "        display.clear_output(wait =True)\n",
    "        ex = np.random.randint(0,1000,1)[0]\n",
    "        model_y = ex_model(X_torch).cpu().detach().numpy()\n",
    "        plotCurrentModel(x[ex,:,:], y[ex,:,:], model_y[ex,0,:,:], ax)\n",
    "        plt.suptitle(f'Iteration {i} loss: {loss:.3f}')\n",
    "        plt.draw()\n",
    "        t.sleep(0.1)\n",
    "        display.display(plt.gcf())\n",
    "    \n",
    "print(\"Done!\")\n",
    "print(list(ex_model.named_parameters()))\n",
    "display.clear_output(wait =True)"
   ]
  }
 ],
 "metadata": {
  "kernelspec": {
   "display_name": "Python 3 (ipykernel)",
   "language": "python",
   "name": "python3"
  },
  "language_info": {
   "codemirror_mode": {
    "name": "ipython",
    "version": 3
   },
   "file_extension": ".py",
   "mimetype": "text/x-python",
   "name": "python",
   "nbconvert_exporter": "python",
   "pygments_lexer": "ipython3",
   "version": "3.10.5"
  }
 },
 "nbformat": 4,
 "nbformat_minor": 5
}

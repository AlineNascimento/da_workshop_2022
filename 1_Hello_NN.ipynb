{
 "cells": [
  {
   "cell_type": "markdown",
   "id": "994c0655-fc35-4a38-a564-e6fe6b7c9015",
   "metadata": {},
   "source": [
    "# Hello PyTorch Neural Networks\n",
    "\n",
    "\n",
    "This notebook contains a **hello world** example of neural networks with PyTorch. Basically a linear regression approximation\n"
   ]
  },
  {
   "cell_type": "code",
   "execution_count": null,
   "id": "594ceef5-2c28-4a20-bc93-a1efd1e8f53f",
   "metadata": {},
   "outputs": [],
   "source": [
    "%matplotlib inline\n",
    "import torch\n",
    "import torch.nn as nn\n",
    "import torch.optim as optim\n",
    "import numpy as np\n",
    "import matplotlib.pyplot as plt\n",
    "from IPython import display\n",
    "import time as t\n",
    "\n",
    "device = \"cuda\" if torch.cuda.is_available() else \"cpu\""
   ]
  },
  {
   "cell_type": "markdown",
   "id": "336bb9ad-f0fe-4bfe-bd4e-b852ba111bee",
   "metadata": {},
   "source": [
    "## Linear regression Example\n",
    "\n",
    "1. Generate some synthetic data"
   ]
  },
  {
   "cell_type": "code",
   "execution_count": null,
   "id": "7426e5ff-b914-4cd0-8e71-f5cac8124490",
   "metadata": {},
   "outputs": [],
   "source": [
    "# Create some synthetic data\n",
    "x = torch.linspace(0,10,100)\n",
    "m = 2\n",
    "y = x*m + torch.rand(x.shape)*2\n",
    "\n",
    "plt.scatter(x,y, s=10)\n",
    "plt.title(\"Training noisy data\")"
   ]
  },
  {
   "cell_type": "markdown",
   "id": "da70ccc5-e354-411f-b02c-1804559ba82e",
   "metadata": {},
   "source": [
    "2. Create a model of a single neuron. By default the parameters of that model are initialized randomly. "
   ]
  },
  {
   "cell_type": "code",
   "execution_count": null,
   "id": "4d5ef9f0-4d9c-485a-9885-decdef97294d",
   "metadata": {},
   "outputs": [],
   "source": [
    "# Models are created by classes that inherit from Module\n",
    "class SingleNeuronModel(nn.Module):\n",
    "    # On the init function we define our model\n",
    "    def __init__(self):\n",
    "        super().__init__() # Constructor of parent class\n",
    "        self.single_neuron =  nn.Linear(1, 1)\n",
    "    \n",
    "    # On the foreward model we indicate how to make one 'pass' of the model\n",
    "    def forward(self, x):\n",
    "        return self.single_neuron(x)\n",
    "\n",
    "ex_model = SingleNeuronModel().to(device)  # Send to GPU\n",
    "X = torch.reshape(x, (x.shape[0],1)).to(device)  # Reshape with proper shape (with 1 band)\n",
    "Y = torch.reshape(y, (y.shape[0],1)).to(device)\n",
    "print(list(ex_model.named_parameters()))\n",
    "\n",
    "#-------------- Just for plotting --------------\n",
    "fig, ax = plt.subplots(1,1)\n",
    "def plotCurrentModel(x, y, model, ax):\n",
    "    # Torch receives inputs with shape [Examples, input_size]\n",
    "    model_y = model(X).cpu().detach().numpy()\n",
    "\n",
    "    ax.scatter(x, y, s=10, label='True')\n",
    "    ax.scatter(x, model_y, s=10, label='Random model')\n",
    "    ax.set_title('Default model')\n",
    "    ax.legend()\n",
    "    \n",
    "plotCurrentModel(x, y, ex_model, ax)"
   ]
  },
  {
   "cell_type": "markdown",
   "id": "4624d7b2-a8f6-4a37-9b41-076f59e6c493",
   "metadata": {},
   "source": [
    "3.Optimize the parameters of the model using backpropagation "
   ]
  },
  {
   "cell_type": "code",
   "execution_count": null,
   "id": "21490976-abc3-42e9-a478-b77a67d30fe3",
   "metadata": {},
   "outputs": [],
   "source": [
    "loss_mse = nn.MSELoss() # Define loss function\n",
    "optimizer = torch.optim.SGD(ex_model.parameters(), lr=2e-3) # Define optimization algorithm"
   ]
  },
  {
   "cell_type": "code",
   "execution_count": null,
   "id": "503af9fd-f072-4401-bc65-5fc461369e69",
   "metadata": {},
   "outputs": [],
   "source": [
    "# Optimize the parameters several times\n",
    "\n",
    "fig, ax = plt.subplots(1,1)\n",
    "ex_model.train()\n",
    "for i in range(200):\n",
    "    pred = ex_model(X)\n",
    "    loss = loss_mse(pred, Y)\n",
    "    # Backpropagation\n",
    "    optimizer.zero_grad()\n",
    "    loss.backward()\n",
    "    optimizer.step()\n",
    "    \n",
    "    # ---------- Just for plotting ---------\n",
    "    if i % 10 == 0: \n",
    "        title = f\"Iteration number {i} loss: {loss:0.3f}\"\n",
    "        print(title)\n",
    "        ax.cla()\n",
    "        display.clear_output(wait =True)\n",
    "        plotCurrentModel(x, y, ex_model, ax)\n",
    "        ax.set_title(title)\n",
    "        plt.draw()\n",
    "        t.sleep(0.1)\n",
    "        display.display(plt.gcf())\n",
    "    \n",
    "display.clear_output(wait =True)\n",
    "print(\"Done!\")\n",
    "    "
   ]
  },
  {
   "cell_type": "code",
   "execution_count": null,
   "id": "1a47eae0-853f-4cbf-8dc4-53a5824421ad",
   "metadata": {},
   "outputs": [],
   "source": []
  }
 ],
 "metadata": {
  "kernelspec": {
   "display_name": "Python 3 (ipykernel)",
   "language": "python",
   "name": "python3"
  },
  "language_info": {
   "codemirror_mode": {
    "name": "ipython",
    "version": 3
   },
   "file_extension": ".py",
   "mimetype": "text/x-python",
   "name": "python",
   "nbconvert_exporter": "python",
   "pygments_lexer": "ipython3",
   "version": "3.10.5"
  }
 },
 "nbformat": 4,
 "nbformat_minor": 5
}
